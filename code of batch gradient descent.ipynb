{
 "cells": [
  {
   "cell_type": "code",
   "execution_count": 1,
   "metadata": {},
   "outputs": [],
   "source": [
    "import numpy as np\n"
   ]
  },
  {
   "cell_type": "code",
   "execution_count": 2,
   "metadata": {},
   "outputs": [],
   "source": [
    "def step_g_d(points,l_r,m,c):\n",
    "    slope_m=0\n",
    "    slope_c=0\n",
    "    N=len(points)\n",
    "    for i in range(len(points)):\n",
    "        x=points[i,0]\n",
    "        y=points[i,1]\n",
    "        slope_m+=(-2/N)*(y-m*x-c)*(x)\n",
    "        slope_c+=(-2/N)*(y-m*x-c)\n",
    "    slope_m=m-l_r*slope_m\n",
    "    slope_c=c-l_r*slope_c\n",
    "    return slope_m,slope_c"
   ]
  },
  {
   "cell_type": "code",
   "execution_count": 3,
   "metadata": {},
   "outputs": [],
   "source": [
    "def cost(points,m,c):\n",
    "    ans_cost=0\n",
    "    N=len(points)\n",
    "    for i in range(len(points)):\n",
    "        x=points[i,0]\n",
    "        y=points[i,1]\n",
    "        ans_cost+=(1/N)*((y-m*x-c)**2)\n",
    "        \n",
    "    return ans_cost"
   ]
  },
  {
   "cell_type": "code",
   "execution_count": 7,
   "metadata": {},
   "outputs": [],
   "source": [
    "def gd(points,l_r,num_iterations):\n",
    "    # we have to start with the random values of m and c\n",
    "    m=0\n",
    "    c=0\n",
    "    for i in range(num_iterations):\n",
    "        m,c=step_g_d(points,l_r,m,c)\n",
    "        print(\"cost of\",i+1,\"iteration :\",cost(points,m,c))\n",
    "    return m,c\n",
    "    "
   ]
  },
  {
   "cell_type": "code",
   "execution_count": 12,
   "metadata": {},
   "outputs": [],
   "source": [
    "def run():\n",
    "    dataset=np.loadtxt(\"data.csv\",delimiter=\",\")\n",
    "    learning_rate=0.0001\n",
    "    num_iterations=100\n",
    "    m,c=gd(dataset,learning_rate,num_iterations)\n",
    "    print(m,c)"
   ]
  },
  {
   "cell_type": "code",
   "execution_count": 13,
   "metadata": {},
   "outputs": [
    {
     "name": "stdout",
     "output_type": "stream",
     "text": [
      "cost of 1 iteration : 1484.5865574086486\n",
      "cost of 2 iteration : 457.8542575737672\n",
      "cost of 3 iteration : 199.5099857255389\n",
      "cost of 4 iteration : 134.50591058200533\n",
      "cost of 5 iteration : 118.1496934223995\n",
      "cost of 6 iteration : 114.0341490603815\n",
      "cost of 7 iteration : 112.99857731713657\n",
      "cost of 8 iteration : 112.73798187568467\n",
      "cost of 9 iteration : 112.6723843590911\n",
      "cost of 10 iteration : 112.65585181499745\n",
      "cost of 11 iteration : 112.65166489759581\n",
      "cost of 12 iteration : 112.6505843615011\n",
      "cost of 13 iteration : 112.65028544701502\n",
      "cost of 14 iteration : 112.65018320293967\n",
      "cost of 15 iteration : 112.650130445072\n",
      "cost of 16 iteration : 112.65009013922885\n",
      "cost of 17 iteration : 112.6500529669463\n",
      "cost of 18 iteration : 112.65001658353178\n",
      "cost of 19 iteration : 112.64998039901865\n",
      "cost of 20 iteration : 112.64994426496071\n",
      "cost of 21 iteration : 112.64990814400622\n",
      "cost of 22 iteration : 112.64987202675677\n",
      "cost of 23 iteration : 112.64983591084761\n",
      "cost of 24 iteration : 112.64979979568368\n",
      "cost of 25 iteration : 112.64976368111523\n",
      "cost of 26 iteration : 112.64972756710469\n",
      "cost of 27 iteration : 112.64969145364236\n",
      "cost of 28 iteration : 112.64965534072611\n",
      "cost of 29 iteration : 112.64961922835512\n",
      "cost of 30 iteration : 112.64958311652944\n",
      "cost of 31 iteration : 112.64954700524868\n",
      "cost of 32 iteration : 112.64951089451318\n",
      "cost of 33 iteration : 112.64947478432279\n",
      "cost of 34 iteration : 112.64943867467744\n",
      "cost of 35 iteration : 112.64940256557728\n",
      "cost of 36 iteration : 112.64936645702221\n",
      "cost of 37 iteration : 112.64933034901203\n",
      "cost of 38 iteration : 112.64929424154704\n",
      "cost of 39 iteration : 112.64925813462712\n",
      "cost of 40 iteration : 112.6492220282522\n",
      "cost of 41 iteration : 112.64918592242235\n",
      "cost of 42 iteration : 112.64914981713754\n",
      "cost of 43 iteration : 112.64911371239779\n",
      "cost of 44 iteration : 112.64907760820296\n",
      "cost of 45 iteration : 112.64904150455324\n",
      "cost of 46 iteration : 112.64900540144845\n",
      "cost of 47 iteration : 112.64896929888867\n",
      "cost of 48 iteration : 112.64893319687388\n",
      "cost of 49 iteration : 112.6488970954041\n",
      "cost of 50 iteration : 112.64886099447922\n",
      "cost of 51 iteration : 112.64882489409929\n",
      "cost of 52 iteration : 112.64878879426433\n",
      "cost of 53 iteration : 112.64875269497436\n",
      "cost of 54 iteration : 112.64871659622933\n",
      "cost of 55 iteration : 112.64868049802914\n",
      "cost of 56 iteration : 112.648644400374\n",
      "cost of 57 iteration : 112.64860830326366\n",
      "cost of 58 iteration : 112.64857220669828\n",
      "cost of 59 iteration : 112.64853611067772\n",
      "cost of 60 iteration : 112.64850001520212\n",
      "cost of 61 iteration : 112.64846392027131\n",
      "cost of 62 iteration : 112.64842782588545\n",
      "cost of 63 iteration : 112.64839173204442\n",
      "cost of 64 iteration : 112.6483556387483\n",
      "cost of 65 iteration : 112.64831954599697\n",
      "cost of 66 iteration : 112.64828345379043\n",
      "cost of 67 iteration : 112.64824736212877\n",
      "cost of 68 iteration : 112.64821127101193\n",
      "cost of 69 iteration : 112.64817518043986\n",
      "cost of 70 iteration : 112.64813909041264\n",
      "cost of 71 iteration : 112.64810300093015\n",
      "cost of 72 iteration : 112.64806691199259\n",
      "cost of 73 iteration : 112.64803082359971\n",
      "cost of 74 iteration : 112.64799473575155\n",
      "cost of 75 iteration : 112.64795864844827\n",
      "cost of 76 iteration : 112.64792256168963\n",
      "cost of 77 iteration : 112.64788647547579\n",
      "cost of 78 iteration : 112.64785038980668\n",
      "cost of 79 iteration : 112.64781430468226\n",
      "cost of 80 iteration : 112.64777822010265\n",
      "cost of 81 iteration : 112.6477421360677\n",
      "cost of 82 iteration : 112.64770605257743\n",
      "cost of 83 iteration : 112.64766996963193\n",
      "cost of 84 iteration : 112.64763388723107\n",
      "cost of 85 iteration : 112.64759780537483\n",
      "cost of 86 iteration : 112.64756172406335\n",
      "cost of 87 iteration : 112.6475256432965\n",
      "cost of 88 iteration : 112.64748956307432\n",
      "cost of 89 iteration : 112.64745348339677\n",
      "cost of 90 iteration : 112.64741740426388\n",
      "cost of 91 iteration : 112.6473813256756\n",
      "cost of 92 iteration : 112.64734524763193\n",
      "cost of 93 iteration : 112.64730917013293\n",
      "cost of 94 iteration : 112.6472730931785\n",
      "cost of 95 iteration : 112.64723701676861\n",
      "cost of 96 iteration : 112.64720094090339\n",
      "cost of 97 iteration : 112.64716486558265\n",
      "cost of 98 iteration : 112.64712879080662\n",
      "cost of 99 iteration : 112.64709271657513\n",
      "cost of 100 iteration : 112.64705664288809\n",
      "1.4788027175308358 0.035074970592341756\n"
     ]
    }
   ],
   "source": [
    "run()"
   ]
  }
 ],
 "metadata": {
  "kernelspec": {
   "display_name": "Python 3",
   "language": "python",
   "name": "python3"
  },
  "language_info": {
   "codemirror_mode": {
    "name": "ipython",
    "version": 3
   },
   "file_extension": ".py",
   "mimetype": "text/x-python",
   "name": "python",
   "nbconvert_exporter": "python",
   "pygments_lexer": "ipython3",
   "version": "3.7.6"
  }
 },
 "nbformat": 4,
 "nbformat_minor": 4
}
