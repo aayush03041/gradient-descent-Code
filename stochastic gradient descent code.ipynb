{
 "cells": [
  {
   "cell_type": "code",
   "execution_count": 1,
   "metadata": {},
   "outputs": [],
   "source": [
    "import numpy as np"
   ]
  },
  {
   "cell_type": "code",
   "execution_count": 2,
   "metadata": {},
   "outputs": [],
   "source": [
    "def step_g_d(points,l_r,m,c):\n",
    "    slope_m=0\n",
    "    slope_c=0\n",
    "    N=len(points)\n",
    "    for i in range(len(points)):\n",
    "        x=points[i,0]\n",
    "        y=points[i,1]\n",
    "        m=m-l_r*((-2/N)*(y-m*x-c)*(x))\n",
    "        c=c-l_r*((-2/N)*(y-m*x-c))\n",
    "    #slope_m=m-l_r*slope_m\n",
    "    #slope_c=c-l_r*slope_c\n",
    "    return m,c"
   ]
  },
  {
   "cell_type": "code",
   "execution_count": 3,
   "metadata": {},
   "outputs": [],
   "source": [
    "def cost(points,m,c):\n",
    "    ans_cost=0\n",
    "    N=len(points)\n",
    "    for i in range(len(points)):\n",
    "        x=points[i,0]\n",
    "        y=points[i,1]\n",
    "        ans_cost+=(1/N)*((y-m*x-c)**2)\n",
    "        \n",
    "    return ans_cost"
   ]
  },
  {
   "cell_type": "code",
   "execution_count": 4,
   "metadata": {},
   "outputs": [],
   "source": [
    "def gd(points,l_r,num_iterations):\n",
    "    # we have to start with the random values of m and c\n",
    "    m=0\n",
    "    c=0\n",
    "    for i in range(num_iterations):\n",
    "        m,c=step_g_d(points,l_r,m,c)\n",
    "        print(\"cost of\",i+1,\"iteration :\",cost(points,m,c))\n",
    "    return m,c\n",
    "    "
   ]
  },
  {
   "cell_type": "code",
   "execution_count": 7,
   "metadata": {},
   "outputs": [],
   "source": [
    "def run():\n",
    "    dataset=np.loadtxt(\"data.csv\",delimiter=\",\")\n",
    "    learning_rate=0.001\n",
    "    num_iterations=100\n",
    "    m,c=gd(dataset,learning_rate,num_iterations)\n",
    "    print(m,c)"
   ]
  },
  {
   "cell_type": "code",
   "execution_count": 8,
   "metadata": {},
   "outputs": [
    {
     "name": "stdout",
     "output_type": "stream",
     "text": [
      "cost of 1 iteration : 118.1969723555925\n",
      "cost of 2 iteration : 120.51675982573984\n",
      "cost of 3 iteration : 120.53131225356454\n",
      "cost of 4 iteration : 120.53105938316787\n",
      "cost of 5 iteration : 120.53071914732065\n",
      "cost of 6 iteration : 120.53037844931727\n",
      "cost of 7 iteration : 120.53003780203149\n",
      "cost of 8 iteration : 120.52969720848202\n",
      "cost of 9 iteration : 120.5293566686778\n",
      "cost of 10 iteration : 120.52901618261066\n",
      "cost of 11 iteration : 120.52867575027201\n",
      "cost of 12 iteration : 120.52833537165354\n",
      "cost of 13 iteration : 120.52799504674655\n",
      "cost of 14 iteration : 120.52765477554242\n",
      "cost of 15 iteration : 120.52731455803269\n",
      "cost of 16 iteration : 120.52697439420885\n",
      "cost of 17 iteration : 120.52663428406235\n",
      "cost of 18 iteration : 120.52629422758505\n",
      "cost of 19 iteration : 120.52595422476791\n",
      "cost of 20 iteration : 120.52561427560254\n",
      "cost of 21 iteration : 120.52527438008067\n",
      "cost of 22 iteration : 120.52493453819369\n",
      "cost of 23 iteration : 120.5245947499328\n",
      "cost of 24 iteration : 120.5242550152899\n",
      "cost of 25 iteration : 120.52391533425634\n",
      "cost of 26 iteration : 120.52357570682365\n",
      "cost of 27 iteration : 120.52323613298303\n",
      "cost of 28 iteration : 120.52289661272646\n",
      "cost of 29 iteration : 120.5225571460452\n",
      "cost of 30 iteration : 120.52221773293046\n",
      "cost of 31 iteration : 120.52187837337442\n",
      "cost of 32 iteration : 120.52153906736802\n",
      "cost of 33 iteration : 120.52119981490293\n",
      "cost of 34 iteration : 120.52086061597062\n",
      "cost of 35 iteration : 120.52052147056278\n",
      "cost of 36 iteration : 120.52018237867074\n",
      "cost of 37 iteration : 120.51984334028603\n",
      "cost of 38 iteration : 120.51950435540031\n",
      "cost of 39 iteration : 120.51916542400478\n",
      "cost of 40 iteration : 120.51882654609139\n",
      "cost of 41 iteration : 120.51848772165125\n",
      "cost of 42 iteration : 120.51814895067614\n",
      "cost of 43 iteration : 120.51781023315729\n",
      "cost of 44 iteration : 120.51747156908665\n",
      "cost of 45 iteration : 120.5171329584554\n",
      "cost of 46 iteration : 120.51679440125514\n",
      "cost of 47 iteration : 120.51645589747737\n",
      "cost of 48 iteration : 120.51611744711388\n",
      "cost of 49 iteration : 120.51577905015588\n",
      "cost of 50 iteration : 120.51544070659493\n",
      "cost of 51 iteration : 120.51510241642266\n",
      "cost of 52 iteration : 120.51476417963073\n",
      "cost of 53 iteration : 120.51442599621029\n",
      "cost of 54 iteration : 120.51408786615318\n",
      "cost of 55 iteration : 120.5137497894509\n",
      "cost of 56 iteration : 120.51341176609496\n",
      "cost of 57 iteration : 120.51307379607687\n",
      "cost of 58 iteration : 120.51273587938803\n",
      "cost of 59 iteration : 120.51239801602046\n",
      "cost of 60 iteration : 120.51206020596496\n",
      "cost of 61 iteration : 120.51172244921375\n",
      "cost of 62 iteration : 120.5113847457581\n",
      "cost of 63 iteration : 120.51104709558957\n",
      "cost of 64 iteration : 120.51070949869968\n",
      "cost of 65 iteration : 120.51037195507989\n",
      "cost of 66 iteration : 120.510034464722\n",
      "cost of 67 iteration : 120.50969702761736\n",
      "cost of 68 iteration : 120.50935964375759\n",
      "cost of 69 iteration : 120.50902231313407\n",
      "cost of 70 iteration : 120.50868503573881\n",
      "cost of 71 iteration : 120.50834781156303\n",
      "cost of 72 iteration : 120.50801064059826\n",
      "cost of 73 iteration : 120.50767352283623\n",
      "cost of 74 iteration : 120.50733645826827\n",
      "cost of 75 iteration : 120.50699944688603\n",
      "cost of 76 iteration : 120.50666248868137\n",
      "cost of 77 iteration : 120.50632558364543\n",
      "cost of 78 iteration : 120.50598873177\n",
      "cost of 79 iteration : 120.50565193304651\n",
      "cost of 80 iteration : 120.50531518746689\n",
      "cost of 81 iteration : 120.50497849502209\n",
      "cost of 82 iteration : 120.50464185570439\n",
      "cost of 83 iteration : 120.50430526950481\n",
      "cost of 84 iteration : 120.50396873641488\n",
      "cost of 85 iteration : 120.50363225642684\n",
      "cost of 86 iteration : 120.50329582953172\n",
      "cost of 87 iteration : 120.50295945572114\n",
      "cost of 88 iteration : 120.50262313498675\n",
      "cost of 89 iteration : 120.50228686732004\n",
      "cost of 90 iteration : 120.50195065271284\n",
      "cost of 91 iteration : 120.50161449115669\n",
      "cost of 92 iteration : 120.50127838264301\n",
      "cost of 93 iteration : 120.50094232716323\n",
      "cost of 94 iteration : 120.50060632470934\n",
      "cost of 95 iteration : 120.50027037527265\n",
      "cost of 96 iteration : 120.49993447884498\n",
      "cost of 97 iteration : 120.49959863541775\n",
      "cost of 98 iteration : 120.49926284498247\n",
      "cost of 99 iteration : 120.49892710753076\n",
      "cost of 100 iteration : 120.49859142305463\n",
      "1.5340307273733527 0.08716433351640254\n"
     ]
    }
   ],
   "source": [
    "run()"
   ]
  }
 ],
 "metadata": {
  "kernelspec": {
   "display_name": "Python 3",
   "language": "python",
   "name": "python3"
  },
  "language_info": {
   "codemirror_mode": {
    "name": "ipython",
    "version": 3
   },
   "file_extension": ".py",
   "mimetype": "text/x-python",
   "name": "python",
   "nbconvert_exporter": "python",
   "pygments_lexer": "ipython3",
   "version": "3.7.6"
  }
 },
 "nbformat": 4,
 "nbformat_minor": 4
}
